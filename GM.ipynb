{
  "nbformat": 4,
  "nbformat_minor": 0,
  "metadata": {
    "colab": {
      "name": "GM.ipynb",
      "provenance": [],
      "collapsed_sections": []
    },
    "kernelspec": {
      "name": "python3",
      "display_name": "Python 3"
    },
    "language_info": {
      "name": "python"
    },
    "accelerator": "GPU"
  },
  "cells": [
    {
      "cell_type": "code",
      "metadata": {
        "colab": {
          "base_uri": "https://localhost:8080/"
        },
        "id": "J37uc1DMHuEE",
        "outputId": "6109b9de-24d1-4d51-d99e-f74a43afd0f6"
      },
      "source": [
        "%cd drive/MyDrive/BDCN"
      ],
      "execution_count": 1,
      "outputs": [
        {
          "output_type": "stream",
          "text": [
            "/content/drive/MyDrive\n"
          ],
          "name": "stdout"
        }
      ]
    },
    {
      "cell_type": "code",
      "metadata": {
        "id": "E2MUj70TIyEt"
      },
      "source": [
        "!tar -xf bdcn-final-model.tar.gz"
      ],
      "execution_count": 7,
      "outputs": []
    },
    {
      "cell_type": "code",
      "metadata": {
        "colab": {
          "base_uri": "https://localhost:8080/"
        },
        "id": "5hAeK4CtKIjx",
        "outputId": "9b5c5dcc-1b09-45ac-b4c4-1262e15134ba"
      },
      "source": [
        "!python test_image.py -m 'final-model/bdcn_pretrained_on_nyudv2_rgb.pth' --test-lst 'test.lst'"
      ],
      "execution_count": 28,
      "outputs": [
        {
          "output_type": "stream",
          "text": [
            "time.struct_time(tm_year=2021, tm_mon=6, tm_mday=27, tm_hour=7, tm_min=17, tm_sec=43, tm_wday=6, tm_yday=178, tm_isdst=0)\n",
            "/content/drive/MyDrive/BDCN/bdcn.py:199: UserWarning: nn.init.constant is now deprecated in favor of nn.init.constant_.\n",
            "  nn.init.constant(param, 0.080)\n",
            "tensor([[[[0.0802]],\n",
            "\n",
            "         [[0.0810]],\n",
            "\n",
            "         [[0.0833]],\n",
            "\n",
            "         [[0.0849]],\n",
            "\n",
            "         [[0.0904]],\n",
            "\n",
            "         [[0.0937]],\n",
            "\n",
            "         [[0.0936]],\n",
            "\n",
            "         [[0.0934]],\n",
            "\n",
            "         [[0.0923]],\n",
            "\n",
            "         [[0.0915]]]])\n",
            "image/1\n",
            "/usr/local/lib/python3.7/dist-packages/torch/nn/functional.py:718: UserWarning: Named tensors and all their associated APIs are an experimental feature and subject to change. Please do not use them for anything important until they are released as stable. (Triggered internally at  /pytorch/c10/core/TensorImpl.h:1156.)\n",
            "  return torch.max_pool2d(input, kernel_size, stride, padding, dilation, ceil_mode)\n",
            "/usr/local/lib/python3.7/dist-packages/torch/nn/functional.py:1805: UserWarning: nn.functional.sigmoid is deprecated. Use torch.sigmoid instead.\n",
            "  warnings.warn(\"nn.functional.sigmoid is deprecated. Use torch.sigmoid instead.\")\n",
            "3.0626778602600098\n",
            "Overall Time use:  3.068770408630371\n"
          ],
          "name": "stdout"
        }
      ]
    },
    {
      "cell_type": "code",
      "metadata": {
        "id": "BK6WmbJcO8i_"
      },
      "source": [
        ""
      ],
      "execution_count": null,
      "outputs": []
    }
  ]
}