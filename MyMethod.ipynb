{
  "nbformat": 4,
  "nbformat_minor": 0,
  "metadata": {
    "colab": {
      "name": "MyMethod.ipynb",
      "provenance": [],
      "collapsed_sections": []
    },
    "kernelspec": {
      "name": "python3",
      "display_name": "Python 3"
    },
    "language_info": {
      "name": "python"
    },
    "accelerator": "GPU"
  },
  "cells": [
    {
      "cell_type": "code",
      "metadata": {
        "colab": {
          "base_uri": "https://localhost:8080/"
        },
        "id": "MmoVltgK1NWh",
        "outputId": "175eadb4-b268-48b8-ef31-c5e4d1cf5691"
      },
      "source": [
        "%cd drive/MyDrive/noval-seam-carving-method\\"
      ],
      "execution_count": 2,
      "outputs": [
        {
          "output_type": "stream",
          "text": [
            "/content/drive/MyDrive/noval-seam-carving-method\n"
          ],
          "name": "stdout"
        }
      ]
    },
    {
      "cell_type": "code",
      "metadata": {
        "id": "eNJvieaB3YPB"
      },
      "source": [
        "from map_generation_functions import SM_creator, GM_creator, DM_creator\n",
        "from seam_carving_functions import *\n",
        "from google.colab.patches import cv2_imshow\n",
        "import matplotlib.pyplot as plt\n",
        "import cv2\n",
        "import torch\n",
        "import numpy as np\n",
        "import myvariables\n",
        "import os"
      ],
      "execution_count": 2,
      "outputs": []
    },
    {
      "cell_type": "code",
      "metadata": {
        "id": "T84ATTkq4fg_"
      },
      "source": [
        "input_h = ?\n",
        "input_w = ?\n",
        "output_h = ?\n",
        "output_w = ?\n",
        "new_w = round((input_w*output_h)/input_h)\n",
        "new_h = round((input_h*output_w)/input_w)\n",
        "if abs(input_h - new_h) > abs(input_w - new_w):\n",
        "  scaling_h = output_h\n",
        "  scaling_w = new_w\n",
        "else:\n",
        "  scaling_h = new_h\n",
        "  scaling_w = output_w\n",
        "\n",
        "delta_h = abs(output_h - scaling_h)\n",
        "delta_w = abs(output_w - scaling)\n",
        "\n",
        "if scaling_h > output_h:\n",
        "  # rotate 90 degree\n",
        "  out = remove_columnar_seams2(delta_h)\n",
        "elif scaling_h < output_h:\n",
        "  # rotate 90 degree\n",
        "  out = extend_image(delta_h)\n",
        "if scaling_w > output_w:\n",
        "  out = remove_columnar_seams2(delta_w)\n",
        "elif scaling_w < output_w:\n",
        "  out = extend_image(delta_w)"
      ],
      "execution_count": null,
      "outputs": []
    },
    {
      "cell_type": "code",
      "metadata": {
        "id": "WoHVmBOAfcsH"
      },
      "source": [
        ""
      ],
      "execution_count": null,
      "outputs": []
    }
  ]
}