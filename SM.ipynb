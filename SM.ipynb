{
  "nbformat": 4,
  "nbformat_minor": 0,
  "metadata": {
    "colab": {
      "name": "SM.ipynb",
      "provenance": [],
      "collapsed_sections": []
    },
    "kernelspec": {
      "name": "python3",
      "display_name": "Python 3"
    },
    "language_info": {
      "name": "python"
    },
    "accelerator": "GPU"
  },
  "cells": [
    {
      "cell_type": "code",
      "metadata": {
        "colab": {
          "base_uri": "https://localhost:8080/"
        },
        "id": "4jhrmsLpZu0u",
        "outputId": "ebd9f784-f586-4617-9573-ec66ddb4f607"
      },
      "source": [
        "%cd drive/MyDrive/PyTorch-Pyramid-Feature-Attention-Network-for-Saliency-Detection/"
      ],
      "execution_count": 1,
      "outputs": [
        {
          "output_type": "stream",
          "text": [
            "/content/drive/MyDrive/PyTorch-Pyramid-Feature-Attention-Network-for-Saliency-Detection\n"
          ],
          "name": "stdout"
        }
      ]
    },
    {
      "cell_type": "code",
      "metadata": {
        "id": "3TQ8PsTDaEj6"
      },
      "source": [
        "from __future__ import print_function\n",
        "from __future__ import absolute_import\n",
        "from __future__ import division\n",
        "\n",
        "import argparse\n",
        "import cv2\n",
        "import numpy as np\n",
        "import tqdm\n",
        "import torch\n",
        "import torch.nn as nn\n",
        "import torch.nn.functional as F\n",
        "from torch.utils.data import DataLoader\n",
        "from src.model import SODModel\n",
        "from src.dataloader import InfDataloader, SODLoader\n",
        "from google.colab.patches import cv2_imshow\n",
        "import matplotlib.pyplot as plt"
      ],
      "execution_count": 55,
      "outputs": []
    },
    {
      "cell_type": "code",
      "metadata": {
        "id": "PjDQ7VNKaR1v"
      },
      "source": [
        "device = torch.device(device='cuda')\n",
        "imgs_folder='./data/DUTS/DUTS-TE/DUTS-TE-Image'\n",
        "model_path='best-model.pth'\n",
        "img_size = 256\n",
        "bs = 24"
      ],
      "execution_count": 13,
      "outputs": []
    },
    {
      "cell_type": "code",
      "metadata": {
        "colab": {
          "base_uri": "https://localhost:8080/"
        },
        "id": "QcBZz2nGbEpU",
        "outputId": "92cd4268-494e-4fd9-83bd-3a436e0654a4"
      },
      "source": [
        "# Load model\n",
        "model = SODModel()\n",
        "chkpt = torch.load(model_path, map_location=device)\n",
        "model.load_state_dict(chkpt['model'])\n",
        "model.to(device)\n",
        "model.eval()"
      ],
      "execution_count": 14,
      "outputs": [
        {
          "output_type": "execute_result",
          "data": {
            "text/plain": [
              "SODModel(\n",
              "  (vgg16): Sequential(\n",
              "    (0): Conv2d(3, 64, kernel_size=(3, 3), stride=(1, 1), padding=(1, 1))\n",
              "    (1): ReLU(inplace=True)\n",
              "    (2): Conv2d(64, 64, kernel_size=(3, 3), stride=(1, 1), padding=(1, 1))\n",
              "    (3): ReLU(inplace=True)\n",
              "    (4): MaxPool2d(kernel_size=2, stride=2, padding=0, dilation=1, ceil_mode=False)\n",
              "    (5): Conv2d(64, 128, kernel_size=(3, 3), stride=(1, 1), padding=(1, 1))\n",
              "    (6): ReLU(inplace=True)\n",
              "    (7): Conv2d(128, 128, kernel_size=(3, 3), stride=(1, 1), padding=(1, 1))\n",
              "    (8): ReLU(inplace=True)\n",
              "    (9): MaxPool2d(kernel_size=2, stride=2, padding=0, dilation=1, ceil_mode=False)\n",
              "    (10): Conv2d(128, 256, kernel_size=(3, 3), stride=(1, 1), padding=(1, 1))\n",
              "    (11): ReLU(inplace=True)\n",
              "    (12): Conv2d(256, 256, kernel_size=(3, 3), stride=(1, 1), padding=(1, 1))\n",
              "    (13): ReLU(inplace=True)\n",
              "    (14): Conv2d(256, 256, kernel_size=(3, 3), stride=(1, 1), padding=(1, 1))\n",
              "    (15): ReLU(inplace=True)\n",
              "    (16): MaxPool2d(kernel_size=2, stride=2, padding=0, dilation=1, ceil_mode=False)\n",
              "    (17): Conv2d(256, 512, kernel_size=(3, 3), stride=(1, 1), padding=(1, 1))\n",
              "    (18): ReLU(inplace=True)\n",
              "    (19): Conv2d(512, 512, kernel_size=(3, 3), stride=(1, 1), padding=(1, 1))\n",
              "    (20): ReLU(inplace=True)\n",
              "    (21): Conv2d(512, 512, kernel_size=(3, 3), stride=(1, 1), padding=(1, 1))\n",
              "    (22): ReLU(inplace=True)\n",
              "    (23): MaxPool2d(kernel_size=2, stride=2, padding=0, dilation=1, ceil_mode=False)\n",
              "    (24): Conv2d(512, 512, kernel_size=(3, 3), stride=(1, 1), padding=(1, 1))\n",
              "    (25): ReLU(inplace=True)\n",
              "    (26): Conv2d(512, 512, kernel_size=(3, 3), stride=(1, 1), padding=(1, 1))\n",
              "    (27): ReLU(inplace=True)\n",
              "    (28): Conv2d(512, 512, kernel_size=(3, 3), stride=(1, 1), padding=(1, 1))\n",
              "    (29): ReLU(inplace=True)\n",
              "    (30): MaxPool2d(kernel_size=2, stride=2, padding=0, dilation=1, ceil_mode=False)\n",
              "  )\n",
              "  (cpfe_conv3_3): CPFE(\n",
              "    (conv_1_1): Conv2d(256, 32, kernel_size=(1, 1), stride=(1, 1), bias=False)\n",
              "    (conv_dil_3): Conv2d(256, 32, kernel_size=(3, 3), stride=(1, 1), padding=(3, 3), dilation=(3, 3), bias=False)\n",
              "    (conv_dil_5): Conv2d(256, 32, kernel_size=(3, 3), stride=(1, 1), padding=(5, 5), dilation=(5, 5), bias=False)\n",
              "    (conv_dil_7): Conv2d(256, 32, kernel_size=(3, 3), stride=(1, 1), padding=(7, 7), dilation=(7, 7), bias=False)\n",
              "    (bn): BatchNorm2d(128, eps=1e-05, momentum=0.1, affine=True, track_running_stats=True)\n",
              "  )\n",
              "  (cpfe_conv4_3): CPFE(\n",
              "    (conv_1_1): Conv2d(512, 32, kernel_size=(1, 1), stride=(1, 1), bias=False)\n",
              "    (conv_dil_3): Conv2d(512, 32, kernel_size=(3, 3), stride=(1, 1), padding=(3, 3), dilation=(3, 3), bias=False)\n",
              "    (conv_dil_5): Conv2d(512, 32, kernel_size=(3, 3), stride=(1, 1), padding=(5, 5), dilation=(5, 5), bias=False)\n",
              "    (conv_dil_7): Conv2d(512, 32, kernel_size=(3, 3), stride=(1, 1), padding=(7, 7), dilation=(7, 7), bias=False)\n",
              "    (bn): BatchNorm2d(128, eps=1e-05, momentum=0.1, affine=True, track_running_stats=True)\n",
              "  )\n",
              "  (cpfe_conv5_3): CPFE(\n",
              "    (conv_1_1): Conv2d(512, 32, kernel_size=(1, 1), stride=(1, 1), bias=False)\n",
              "    (conv_dil_3): Conv2d(512, 32, kernel_size=(3, 3), stride=(1, 1), padding=(3, 3), dilation=(3, 3), bias=False)\n",
              "    (conv_dil_5): Conv2d(512, 32, kernel_size=(3, 3), stride=(1, 1), padding=(5, 5), dilation=(5, 5), bias=False)\n",
              "    (conv_dil_7): Conv2d(512, 32, kernel_size=(3, 3), stride=(1, 1), padding=(7, 7), dilation=(7, 7), bias=False)\n",
              "    (bn): BatchNorm2d(128, eps=1e-05, momentum=0.1, affine=True, track_running_stats=True)\n",
              "  )\n",
              "  (cha_att): ChannelwiseAttention(\n",
              "    (linear_1): Linear(in_features=384, out_features=96, bias=True)\n",
              "    (linear_2): Linear(in_features=96, out_features=384, bias=True)\n",
              "  )\n",
              "  (hl_conv1): Conv2d(384, 64, kernel_size=(3, 3), stride=(1, 1), padding=(1, 1))\n",
              "  (hl_bn1): BatchNorm2d(64, eps=1e-05, momentum=0.1, affine=True, track_running_stats=True)\n",
              "  (ll_conv_1): Conv2d(64, 64, kernel_size=(3, 3), stride=(1, 1), padding=(1, 1))\n",
              "  (ll_bn_1): BatchNorm2d(64, eps=1e-05, momentum=0.1, affine=True, track_running_stats=True)\n",
              "  (ll_conv_2): Conv2d(128, 64, kernel_size=(3, 3), stride=(1, 1), padding=(1, 1))\n",
              "  (ll_bn_2): BatchNorm2d(64, eps=1e-05, momentum=0.1, affine=True, track_running_stats=True)\n",
              "  (ll_conv_3): Conv2d(128, 64, kernel_size=(3, 3), stride=(1, 1), padding=(1, 1))\n",
              "  (ll_bn_3): BatchNorm2d(64, eps=1e-05, momentum=0.1, affine=True, track_running_stats=True)\n",
              "  (spa_att): SpatialAttention(\n",
              "    (grp1_conv1k): Conv2d(64, 32, kernel_size=(1, 9), stride=(1, 1), padding=(0, 4))\n",
              "    (grp1_bn1): BatchNorm2d(32, eps=1e-05, momentum=0.1, affine=True, track_running_stats=True)\n",
              "    (grp1_convk1): Conv2d(32, 1, kernel_size=(9, 1), stride=(1, 1), padding=(4, 0))\n",
              "    (grp1_bn2): BatchNorm2d(1, eps=1e-05, momentum=0.1, affine=True, track_running_stats=True)\n",
              "    (grp2_convk1): Conv2d(64, 32, kernel_size=(9, 1), stride=(1, 1), padding=(4, 0))\n",
              "    (grp2_bn1): BatchNorm2d(32, eps=1e-05, momentum=0.1, affine=True, track_running_stats=True)\n",
              "    (grp2_conv1k): Conv2d(32, 1, kernel_size=(1, 9), stride=(1, 1), padding=(0, 4))\n",
              "    (grp2_bn2): BatchNorm2d(1, eps=1e-05, momentum=0.1, affine=True, track_running_stats=True)\n",
              "  )\n",
              "  (ff_conv_1): Conv2d(128, 1, kernel_size=(3, 3), stride=(1, 1), padding=(1, 1))\n",
              ")"
            ]
          },
          "metadata": {
            "tags": []
          },
          "execution_count": 14
        }
      ]
    },
    {
      "cell_type": "code",
      "metadata": {
        "id": "6U2KooNDbXJc"
      },
      "source": [
        "inf_data = InfDataloader(img_folder=imgs_folder, target_size=img_size)\n",
        "# Since the images would be displayed to the user, the batch_size is set to 1\n",
        "# Code at later point is also written assuming batch_size = 1, so do not change\n",
        "inf_dataloader = DataLoader(inf_data, batch_size=1, shuffle=True, num_workers=2)"
      ],
      "execution_count": 16,
      "outputs": []
    },
    {
      "cell_type": "code",
      "metadata": {
        "colab": {
          "base_uri": "https://localhost:8080/",
          "height": 841
        },
        "id": "3_NRyvwub-7A",
        "outputId": "ad65d18d-703d-4ca9-8a38-897fb6bff239"
      },
      "source": [
        "print(\"Press 'q' to quit.\")\n",
        "with torch.no_grad():\n",
        "  for batch_idx, (img_np, img_tor) in enumerate(inf_dataloader, start=1):\n",
        "    img_tor = img_tor.to(device)\n",
        "    pred_masks, _ = model(img_tor)\n",
        "\n",
        "    # Assuming batch_size = 1\n",
        "    img_np = np.squeeze(img_np.numpy(), axis=0)\n",
        "    img_np = img_np.astype(np.uint8)\n",
        "    img_np = cv2.cvtColor(img_np, cv2.COLOR_RGB2BGR)\n",
        "    pred_masks_raw = np.squeeze(pred_masks.cpu().numpy(), axis=(0, 1))\n",
        "    pred_masks_round = np.squeeze(pred_masks.round().cpu().numpy(), axis=(0, 1))\n",
        "\n",
        "    print('Image :', batch_idx)\n",
        "    plt.imshow(img_np)\n",
        "    plt.imshow(pred_masks_raw)\n",
        "    plt.imshow(pred_masks_round, cmap='gray')\n",
        "    plt.show()\n",
        "    key = cv2.waitKey(0)\n",
        "    if key == ord('q'):\n",
        "      break\n"
      ],
      "execution_count": 57,
      "outputs": [
        {
          "output_type": "stream",
          "text": [
            "Press 'q' to quit.\n",
            "Image : 1\n"
          ],
          "name": "stdout"
        },
        {
          "output_type": "display_data",
          "data": {
            "image/png": "[encoded data removed]",
            "text/plain": [
              "<Figure size 432x288 with 1 Axes>"
            ]
          },
          "metadata": {
            "tags": [],
            "needs_background": "light"
          }
        },
        {
          "output_type": "stream",
          "text": [
            "Image : 2\n"
          ],
          "name": "stdout"
        },
        {
          "output_type": "display_data",
          "data": {
            "image/png": "[encoded data removed]",
            "text/plain": [
              "<Figure size 432x288 with 1 Axes>"
            ]
          },
          "metadata": {
            "tags": [],
            "needs_background": "light"
          }
        },
        {
          "output_type": "stream",
          "text": [
            "Image : 3\n"
          ],
          "name": "stdout"
        },
        {
          "output_type": "display_data",
          "data": {
            "image/png": "[encoded data removed]",
            "text/plain": [
              "<Figure size 432x288 with 1 Axes>"
            ]
          },
          "metadata": {
            "tags": [],
            "needs_background": "light"
          }
        }
      ]
    }
  ]
}